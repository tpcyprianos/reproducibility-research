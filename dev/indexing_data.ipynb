{
 "cells": [
  {
   "cell_type": "markdown",
   "metadata": {},
   "source": [
    "# Indexing data in Neo4j\n"
   ]
  },
  {
   "cell_type": "code",
   "execution_count": 51,
   "metadata": {
    "collapsed": false
   },
   "outputs": [
    {
     "name": "stderr",
     "output_type": "stream",
     "text": [
      "[NbConvertApp] Converting notebook connection_neo4j.ipynb to python\n",
      "[NbConvertApp] Writing 1445 bytes to connection_neo4j.py\n"
     ]
    }
   ],
   "source": [
    "#Comando de shell no jupyter\n",
    "!jupyter nbconvert --to python connection_neo4j.ipynb"
   ]
  },
  {
   "cell_type": "code",
   "execution_count": 55,
   "metadata": {
    "collapsed": false
   },
   "outputs": [],
   "source": [
    "import connection_neo4j as cn\n",
    "import pandas as pd\n",
    "import numpy as np\n",
    "\n",
    "from connection_neo4j import ConnectionNeo4j"
   ]
  },
  {
   "cell_type": "code",
   "execution_count": 56,
   "metadata": {
    "collapsed": false
   },
   "outputs": [],
   "source": [
    "connect = ConnectionNeo4j"
   ]
  },
  {
   "cell_type": "code",
   "execution_count": null,
   "metadata": {
    "collapsed": false
   },
   "outputs": [],
   "source": []
  },
  {
   "cell_type": "code",
   "execution_count": null,
   "metadata": {
    "collapsed": false
   },
   "outputs": [],
   "source": [
    "data = pd.read_csv('../data/dataset_Facebook_processed.csv', sep=\";\")\n",
    "data.columns"
   ]
  },
  {
   "cell_type": "code",
   "execution_count": null,
   "metadata": {
    "collapsed": false
   },
   "outputs": [],
   "source": [
    "weekdaysList = ['Sunday','Monday', 'Tuesday', 'Wednesday', 'Thursday', 'Friday', 'Saturday']\n",
    "\n",
    "for i in weekdaysList:\n",
    "    print(i)\n",
    "    query = \"CREATE (n: Weekday {name: '\" + i +\"'})\"\n",
    "    graph.run(query)"
   ]
  },
  {
   "cell_type": "code",
   "execution_count": null,
   "metadata": {
    "collapsed": false
   },
   "outputs": [],
   "source": [
    "for i, row in data.iterrows():  \n",
    "    query    = \"CREATE (n:Post{type: '\"\n",
    "    postType = str(row['Type'])\n",
    "    postId   = str(row['Post id'])\n",
    "    query    += postType + \"', id: '\"+postId+\"'}) RETURN n\"\n",
    "    \n",
    "    graph.data(query)"
   ]
  }
 ],
 "metadata": {
  "kernelspec": {
   "display_name": "Python 3",
   "language": "python",
   "name": "python3"
  },
  "language_info": {
   "codemirror_mode": {
    "name": "ipython",
    "version": 3
   },
   "file_extension": ".py",
   "mimetype": "text/x-python",
   "name": "python",
   "nbconvert_exporter": "python",
   "pygments_lexer": "ipython3",
   "version": "3.6.0"
  }
 },
 "nbformat": 4,
 "nbformat_minor": 2
}
