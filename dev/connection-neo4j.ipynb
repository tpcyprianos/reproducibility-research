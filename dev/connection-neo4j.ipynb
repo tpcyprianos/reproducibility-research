{
 "cells": [
  {
   "cell_type": "markdown",
   "metadata": {},
   "source": [
    "## Connecting Neo4j from Python\n",
    "For connecting the Graph Database to Python, we are using the Driver [Py2neo](http://py2neo.org/v3/). \n",
    "It is necessary install the py2neo, before use these program codes. \n",
    "After the installation, you have to check:\n",
    "* The Neo4j is started\n",
    "* The parameters to host, user and password of Data are corrects (If you are using Docker, please check on [Environment](../environment)\n",
    "* "
   ]
  },
  {
   "cell_type": "code",
   "execution_count": 2,
   "metadata": {
    "collapsed": false
   },
   "outputs": [],
   "source": [
    "from py2neo import authenticate, Graph\n",
    "\n",
    "class ConnectionNeo4j:\n",
    "    host     = \"127.0.0.1:7474/\"\n",
    "    user     = \"neo4j\"\n",
    "    password = \"neo4jresearch\"\n",
    "    \n",
    "    def __init__(self):\n",
    "        try:\n",
    "            authenticate(host, user, password)\n",
    "            graph = Graph(\"http://\"+ host)\n",
    "            print (\"Graph Database connected\")\n",
    "        except:\n",
    "            print (\"Error to connecting the Graph Database\")\n",
    "        "
   ]
  }
 ],
 "metadata": {
  "kernelspec": {
   "display_name": "Python 3",
   "language": "python",
   "name": "python3"
  },
  "language_info": {
   "codemirror_mode": {
    "name": "ipython",
    "version": 3
   },
   "file_extension": ".py",
   "mimetype": "text/x-python",
   "name": "python",
   "nbconvert_exporter": "python",
   "pygments_lexer": "ipython3",
   "version": "3.6.0"
  }
 },
 "nbformat": 4,
 "nbformat_minor": 2
}
