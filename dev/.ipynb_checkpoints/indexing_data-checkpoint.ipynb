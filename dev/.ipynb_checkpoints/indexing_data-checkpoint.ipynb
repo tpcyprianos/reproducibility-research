{
 "cells": [
  {
   "cell_type": "markdown",
   "metadata": {},
   "source": [
    "# Indexing data in Neo4j\n"
   ]
  },
  {
   "cell_type": "code",
   "execution_count": 1,
   "metadata": {
    "collapsed": false
   },
   "outputs": [
    {
     "name": "stderr",
     "output_type": "stream",
     "text": [
      "[NbConvertApp] Converting notebook connection_neo4j.ipynb to python\n",
      "[NbConvertApp] Writing 1171 bytes to connection_neo4j.py\n"
     ]
    }
   ],
   "source": [
    "#Shell command line in the jupyter\n",
    "!jupyter nbconvert --to python connection_neo4j.ipynb"
   ]
  },
  {
   "cell_type": "code",
   "execution_count": 40,
   "metadata": {
    "collapsed": false
   },
   "outputs": [],
   "source": [
    "from py2neo import Graph, Node, Relationship, NodeSelector\n",
    "from connection_neo4j import graph\n",
    "import pandas as pd\n",
    "import numpy as np"
   ]
  },
  {
   "cell_type": "markdown",
   "metadata": {},
   "source": [
    "## Accessing Dataset Processed"
   ]
  },
  {
   "cell_type": "code",
   "execution_count": 42,
   "metadata": {
    "collapsed": false
   },
   "outputs": [
    {
     "data": {
      "text/plain": [
       "Index(['Page total likes', 'Type', 'Category', 'Post Month', 'Post Weekday',\n",
       "       'Post Hour', 'Paid', 'comment', 'like', 'share', 'Post id',\n",
       "       'Increase likes'],\n",
       "      dtype='object')"
      ]
     },
     "execution_count": 42,
     "metadata": {},
     "output_type": "execute_result"
    }
   ],
   "source": [
    "data = pd.read_csv('../data/dataset_Facebook_processed.csv', sep=\";\")\n",
    "data.columns"
   ]
  },
  {
   "cell_type": "markdown",
   "metadata": {},
   "source": [
    "## Creating nodes\n",
    "There are some import nodes that may be created once, for example:\n",
    "* The weekdays (Sunday, Monday, Tuesday, Wednesday, Thursday, Friday, Saturday)\n",
    "* Page Likes\n",
    "* Posts\n",
    "* Comments\n",
    "* Likes\n",
    "* Shares"
   ]
  },
  {
   "cell_type": "code",
   "execution_count": 43,
   "metadata": {
    "collapsed": false,
    "scrolled": true
   },
   "outputs": [
    {
     "name": "stdout",
     "output_type": "stream",
     "text": [
      "Creating Weekdays...\n",
      "[{'n.name': 'Sunday'}]\n",
      "[{'n.name': 'Monday'}]\n",
      "[{'n.name': 'Tuesday'}]\n",
      "[{'n.name': 'Wednesday'}]\n",
      "[{'n.name': 'Thursday'}]\n",
      "[{'n.name': 'Friday'}]\n",
      "[{'n.name': 'Saturday'}]\n"
     ]
    }
   ],
   "source": [
    "weekdaysList = ['Sunday','Monday', 'Tuesday', 'Wednesday', 'Thursday', 'Friday', 'Saturday']\n",
    "\n",
    "print(\"Creating Weekdays...\")\n",
    "\n",
    "for i in weekdaysList:\n",
    "    query  = \"CREATE (n: Weekday {name: '\" + i +\"'}) RETURN n.name\"\n",
    "    result = graph.data(query)\n",
    "    print(result)\n",
    "    "
   ]
  },
  {
   "cell_type": "code",
   "execution_count": 44,
   "metadata": {
    "collapsed": false
   },
   "outputs": [
    {
     "name": "stdout",
     "output_type": "stream",
     "text": [
      "Creating Categories...\n",
      "[{'n.name': 'Action'}]\n",
      "[{'n.name': 'Product'}]\n",
      "[{'n.name': 'Inspiration'}]\n"
     ]
    }
   ],
   "source": [
    "weekdaysList = [\"Action\",\"Product\",\"Inspiration\"]\n",
    "\n",
    "print(\"Creating Categories...\")\n",
    "\n",
    "for i in weekdaysList:\n",
    "    query  = \"CREATE (n: Category {name: '\" + i +\"'}) RETURN n.name\"\n",
    "    result = graph.data(query)\n",
    "    print(result)\n",
    "    \n",
    "    "
   ]
  },
  {
   "cell_type": "code",
   "execution_count": 45,
   "metadata": {
    "collapsed": false
   },
   "outputs": [
    {
     "name": "stdout",
     "output_type": "stream",
     "text": [
      "Creating Page Likes...\n",
      "[{'n.name': 'Page Likes'}]\n"
     ]
    }
   ],
   "source": [
    "print(\"Creating Page Likes...\")\n",
    "query  = \"CREATE (n: PageLikes{name: 'Page Likes', total: 0}) return n.name\"\n",
    "result = graph.data(query)\n",
    "print(result)"
   ]
  },
  {
   "cell_type": "code",
   "execution_count": 48,
   "metadata": {
    "collapsed": false
   },
   "outputs": [],
   "source": [
    "selector = NodeSelector(graph)\n",
    "\n",
    "for i, row in data.iterrows():  \n",
    "    transaction = graph.begin()    \n",
    "    \n",
    "    post = Node(\"Post\",type = str(row['Type']), id = str(row['Post id']) )\n",
    "    transaction.create(post)\n",
    "    \n",
    "    nodeSelected = selector.select(\"Category\", name=str(row['Category']))\n",
    "    returnedList = list(nodeSelected)\n",
    "    category = nodeSelected.first()\n",
    "    \n",
    "    relationship = Relationship(post, \"IS_ABOUT\", category)\n",
    "    transaction.create(relationship)\n",
    "    \n",
    "    nodeSelected = selector.select(\"Weekday\", name=str(row['Post Weekday']))\n",
    "    returnedList = list(nodeSelected)\n",
    "    weekday = nodeSelected.first()\n",
    "\n",
    "    relationship = Relationship(post, \"POSTED_IN\", weekday, month=str(row['Post Month']), hour=str(row['Post Hour']))\n",
    "    transaction.create(relationship)\n",
    "    \n",
    "    comment = Node(\"Comment\", number  = str(row['comment']))\n",
    "    transaction.create(comment)\n",
    "    \n",
    "    relationship = Relationship(comment, \"HAS_COMMENTED\", post)\n",
    "    transaction.create(relationship)\n",
    "    \n",
    "    like = Node(\"Like\", number  = str(row['like']))\n",
    "    transaction.create(like)\n",
    "    \n",
    "    relationship = Relationship(like, \"HAS_LIKED\", post)\n",
    "    transaction.create(relationship)\n",
    "    \n",
    "    share = Node(\"Share\", number  = str(row['share']))\n",
    "    transaction.create(share)\n",
    "    \n",
    "    relationship = Relationship(share, \"HAS_SHARED\", post)\n",
    "    transaction.create(relationship)\n",
    "    \n",
    "    nodeSelected = selector.select(\"PageLikes\", name=\"Page Likes\")\n",
    "    returnedList = list(nodeSelected)\n",
    "    page = nodeSelected.first()\n",
    "    \n",
    "    relationship = Relationship(post, \"INCREASED_LIKES\", page, number=(row['Post total likes']))\n",
    "    transaction.create(relationship)\n",
    "    \n",
    "    transaction.commit()\n"
   ]
  },
  {
   "cell_type": "code",
   "execution_count": 58,
   "metadata": {
    "collapsed": false
   },
   "outputs": [],
   "source": [
    "for i, row in data.iterrows():  \n",
    "    \n",
    "    transaction = graph.begin()    \n",
    "    \n",
    "    nodeSelected = selector.select(\"Post\", id = str(row['Post id']))\n",
    "    returnedList = list(nodeSelected)\n",
    "    post = nodeSelected.first()\n",
    "    \n",
    "    nodeSelected = selector.select(\"PageLikes\", name=\"Page Likes\")\n",
    "    returnedList = list(nodeSelected)\n",
    "    page = nodeSelected.first()\n",
    "    actualTotalLikes = page.get(\"total\")\n",
    "    \n",
    "    newTotalLikes = actualTotalLikes +int(row['Page total likes'])\n",
    "    graph.merge(page)\n",
    "    page['total'] = newTotalLikes\n",
    "    Node.push(page)\n",
    "    \n",
    "    relationship = Relationship(post, \"INCREASED_LIKES\", page, number=(row['Page total likes']))\n",
    "    transaction.create(relationship)\n",
    "    \n",
    "    transaction.commit()"
   ]
  }
 ],
 "metadata": {
  "kernelspec": {
   "display_name": "Python 3",
   "language": "python",
   "name": "python3"
  },
  "language_info": {
   "codemirror_mode": {
    "name": "ipython",
    "version": 3
   },
   "file_extension": ".py",
   "mimetype": "text/x-python",
   "name": "python",
   "nbconvert_exporter": "python",
   "pygments_lexer": "ipython3",
   "version": "3.6.0"
  }
 },
 "nbformat": 4,
 "nbformat_minor": 2
}
