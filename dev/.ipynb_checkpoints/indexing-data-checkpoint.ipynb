{
 "cells": [
  {
   "cell_type": "markdown",
   "metadata": {},
   "source": [
    "# Indexing data in Neo4j\n"
   ]
  },
  {
   "cell_type": "code",
   "execution_count": 8,
   "metadata": {
    "collapsed": false
   },
   "outputs": [
    {
     "name": "stderr",
     "output_type": "stream",
     "text": [
      "[NbConvertApp] Converting notebook connection.ipynb to python\n",
      "[NbConvertApp] Writing 217 bytes to connection.py\n"
     ]
    }
   ],
   "source": [
    "#Shell command line in the jupyter\n",
    "!jupyter nbconvert --to python connection.ipynb"
   ]
  },
  {
   "cell_type": "code",
   "execution_count": 9,
   "metadata": {
    "collapsed": false
   },
   "outputs": [],
   "source": [
    "from py2neo import Graph, Node, Relationship, NodeSelector\n",
    "from connection import graph\n",
    "import pandas as pd\n",
    "import numpy as np"
   ]
  },
  {
   "cell_type": "markdown",
   "metadata": {},
   "source": [
    "## Accessing Dataset Processed"
   ]
  },
  {
   "cell_type": "code",
   "execution_count": 5,
   "metadata": {
    "collapsed": false
   },
   "outputs": [
    {
     "data": {
      "text/plain": [
       "Index(['Page total likes', 'Type', 'Category', 'Post Month', 'Post Weekday',\n",
       "       'Post Hour', 'Paid', 'comment', 'like', 'share', 'Post id',\n",
       "       'Increase likes'],\n",
       "      dtype='object')"
      ]
     },
     "execution_count": 5,
     "metadata": {},
     "output_type": "execute_result"
    }
   ],
   "source": [
    "data = pd.read_csv('../data/dataset_Facebook_processed.csv', sep=\";\")\n",
    "data.columns"
   ]
  },
  {
   "cell_type": "markdown",
   "metadata": {},
   "source": [
    "## Creating nodes\n",
    "There are some import nodes that may be created once, for example:\n",
    "* The weekdays (Sunday, Monday, Tuesday, Wednesday, Thursday, Friday, Saturday)\n",
    "* Page Likes\n",
    "* Posts\n",
    "* Comments\n",
    "* Likes\n",
    "* Shares"
   ]
  },
  {
   "cell_type": "code",
   "execution_count": 11,
   "metadata": {
    "collapsed": false,
    "scrolled": true
   },
   "outputs": [
    {
     "name": "stdout",
     "output_type": "stream",
     "text": [
      "Creating Weekdays...\n",
      "[{'n.name': 'Sunday'}]\n",
      "[{'n.name': 'Monday'}]\n",
      "[{'n.name': 'Tuesday'}]\n",
      "[{'n.name': 'Wednesday'}]\n",
      "[{'n.name': 'Thursday'}]\n",
      "[{'n.name': 'Friday'}]\n",
      "[{'n.name': 'Saturday'}]\n"
     ]
    }
   ],
   "source": [
    "weekdaysList = ['Sunday','Monday', 'Tuesday', 'Wednesday', 'Thursday', 'Friday', 'Saturday']\n",
    "\n",
    "print(\"Creating Weekdays...\")\n",
    "\n",
    "for i in weekdaysList:\n",
    "    query  = \"CREATE (n: Weekday {name: '\" + i +\"'}) RETURN n.name\"\n",
    "    result = graph.data(query)\n",
    "    print(result)\n",
    "    "
   ]
  },
  {
   "cell_type": "code",
   "execution_count": 12,
   "metadata": {
    "collapsed": false
   },
   "outputs": [
    {
     "name": "stdout",
     "output_type": "stream",
     "text": [
      "Creating Categories...\n",
      "[{'n.name': 'Action'}]\n",
      "[{'n.name': 'Product'}]\n",
      "[{'n.name': 'Inspiration'}]\n"
     ]
    }
   ],
   "source": [
    "weekdaysList = [\"Action\",\"Product\",\"Inspiration\"]\n",
    "\n",
    "print(\"Creating Categories...\")\n",
    "\n",
    "for i in weekdaysList:\n",
    "    query  = \"CREATE (n: Category {name: '\" + i +\"'}) RETURN n.name\"\n",
    "    result = graph.data(query)\n",
    "    print(result)\n",
    "    \n",
    "    "
   ]
  },
  {
   "cell_type": "code",
   "execution_count": 14,
   "metadata": {
    "collapsed": false
   },
   "outputs": [
    {
     "name": "stdout",
     "output_type": "stream",
     "text": [
      "Creating Page Likes...\n",
      "[{'n.name': 'Page Likes'}]\n"
     ]
    }
   ],
   "source": [
    "print(\"Creating Page Likes...\")\n",
    "query  = \"CREATE (n: PageLikes{name: 'Page Likes', total: 0}) return n.name\"\n",
    "result = graph.data(query)\n",
    "print(result)"
   ]
  },
  {
   "cell_type": "code",
   "execution_count": 15,
   "metadata": {
    "collapsed": false
   },
   "outputs": [],
   "source": [
    "selector = NodeSelector(graph)\n",
    "\n",
    "\n",
    "for i, row in data.iterrows():  \n",
    "    transaction = graph.begin()    \n",
    "    \n",
    "    post = Node(\"Post\",type = str(row['Type']), id = str(row['Post id']) )\n",
    "    transaction.create(post)\n",
    "    \n",
    "    #weekday = selector.select(\"Weekday\", name=str(row['Post Weekday']))\n",
    "    #query = \"MATCH (n:Category{name:'\" + str(row['Category']) + \"'}) return n\"\n",
    "    #category = graph.data(query)\n",
    "    \n",
    "    #relationship = Relationship(post, \"IS_ABOUT\", category)\n",
    "    #transaction.create(relationship)\n",
    "    \n",
    "    #query = \"MATCH (n:Weekday{name:'\" + str(row['Post Weekday']) + \"'}) return n\"\n",
    "    #weekday = graph.data(query)\n",
    "    \n",
    "    #relationship = Relationship(post, \"POSTED_IN\", weekday, month=str(row['Post Month']), hour=str(row['Post Hour']))\n",
    "    #transaction.create(relationship)\n",
    "    \n",
    "    comment = Node(\"Comment\", number  = str(row['comment']))\n",
    "    transaction.create(comment)\n",
    "    \n",
    "    relationship = Relationship(comment, \"HAS_COMMENTED\", post)\n",
    "    transaction.create(relationship)\n",
    "    \n",
    "    like = Node(\"Like\", number  = str(row['like']))\n",
    "    transaction.create(like)\n",
    "    \n",
    "    relationship = Relationship(like, \"HAS_LIKED\", post)\n",
    "    transaction.create(relationship)\n",
    "    \n",
    "    share = Node(\"Share\", number  = str(row['share']))\n",
    "    transaction.create(share)\n",
    "    \n",
    "    relationship = Relationship(share, \"HAS_SHARED\", post)\n",
    "    transaction.create(relationship)\n",
    "    \n",
    "    transaction.commit()\n"
   ]
  },
  {
   "cell_type": "code",
   "execution_count": 16,
   "metadata": {
    "collapsed": false
   },
   "outputs": [],
   "source": [
    "from pandas import DataFrame\n",
    "transaction = graph.begin()\n",
    "query = \"MATCH (n:Category{name:'Inspiration'}) return n.name\"\n",
    "cate  = graph.data(query)\n",
    "query = \"MATCH (n:Post{id:'12'}) return n.id\"\n",
    "n = graph.data(query)\n",
    "relationship = Relationship(n, \"IS_ABOUT\", cate)\n",
    "transaction.create(relationship)\n",
    "transaction.commit()"
   ]
  },
  {
   "cell_type": "code",
   "execution_count": null,
   "metadata": {
    "collapsed": false
   },
   "outputs": [],
   "source": [
    "query = \"MATCH (n:Category{name:'\" + str(row['Category']) + \"'}) return n.id\"\n",
    "category = graph.data(query)\n",
    "category\n"
   ]
  },
  {
   "cell_type": "code",
   "execution_count": null,
   "metadata": {
    "collapsed": false
   },
   "outputs": [],
   "source": [
    "selector = NodeSelector(graph)\n",
    "selected = selector.select(\"Weekday\", name=\"Saturday\")\n",
    "print(selected)"
   ]
  }
 ],
 "metadata": {
  "kernelspec": {
   "display_name": "Python 3",
   "language": "python",
   "name": "python3"
  },
  "language_info": {
   "codemirror_mode": {
    "name": "ipython",
    "version": 3
   },
   "file_extension": ".py",
   "mimetype": "text/x-python",
   "name": "python",
   "nbconvert_exporter": "python",
   "pygments_lexer": "ipython3",
   "version": "3.6.0"
  }
 },
 "nbformat": 4,
 "nbformat_minor": 2
}
