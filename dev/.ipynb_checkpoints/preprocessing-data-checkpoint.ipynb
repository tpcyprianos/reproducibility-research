{
 "cells": [
  {
   "cell_type": "markdown",
   "metadata": {},
   "source": [
    "# Preprocessing Data\n",
    "The Dataset used in these experiments, Facebook Metrics, is available on [Machine Learning Repository](http://archive.ics.uci.edu/ml/datasets/Facebook+metrics), you can also find the related files in this repository, in the [/data](../data) directory.\n",
    "\n",
    "## Facebook Metrics Dataset\n",
    "The data is related to posts published during the year of 2014 (from 1st of January to 31th of December) on the Facebook's page of a renowned cosmetics brand. The dataset has 500 instances and 19 attributes.\n",
    "\n",
    "### Attributes Description\n",
    "The authors published the dataset with original Facebook metrics + data mining outputs."
   ]
  },
  {
   "cell_type": "code",
   "execution_count": 2,
   "metadata": {
    "collapsed": false
   },
   "outputs": [],
   "source": [
    "import pandas as pd\n",
    "import numpy as np\n",
    "data = pd.read_csv('../data/dataset_Facebook.csv', sep=\";\")"
   ]
  },
  {
   "cell_type": "markdown",
   "metadata": {},
   "source": [
    "### Original Dataset Attributes"
   ]
  },
  {
   "cell_type": "code",
   "execution_count": null,
   "metadata": {
    "collapsed": false,
    "scrolled": false
   },
   "outputs": [],
   "source": [
    "print(\"Original Dataset Attributes\")\n",
    "#print(data.head())"
   ]
  },
  {
   "cell_type": "code",
   "execution_count": null,
   "metadata": {
    "collapsed": false
   },
   "outputs": [],
   "source": [
    "print(data.columns)"
   ]
  },
  {
   "cell_type": "code",
   "execution_count": null,
   "metadata": {
    "collapsed": false,
    "scrolled": true
   },
   "outputs": [],
   "source": [
    "print(\"Dataset\")\n",
    "data"
   ]
  },
  {
   "cell_type": "markdown",
   "metadata": {},
   "source": [
    "### Attributes Selection\n",
    "In the experiments of this research, I extract the attributes from data mining outputs, because the main goal is index the information in Graph Database and get some queries to help the process of data mining."
   ]
  },
  {
   "cell_type": "markdown",
   "metadata": {},
   "source": [
    "#### Reading dataset"
   ]
  },
  {
   "cell_type": "code",
   "execution_count": 12,
   "metadata": {
    "collapsed": false
   },
   "outputs": [],
   "source": [
    "data = pd.read_csv('../data/dataset_Facebook.csv', sep=\";\", usecols=['Page total likes', 'Type', 'Category', 'Post Month', 'Post Weekday',\n",
    "       'Post Hour', 'Paid', 'comment', 'like', 'share'] )"
   ]
  },
  {
   "cell_type": "markdown",
   "metadata": {},
   "source": [
    "#### Finding and Removing null values"
   ]
  },
  {
   "cell_type": "code",
   "execution_count": 13,
   "metadata": {
    "collapsed": false
   },
   "outputs": [
    {
     "name": "stdout",
     "output_type": "stream",
     "text": [
      "Missing values per column:\n",
      "Page total likes    0\n",
      "Type                0\n",
      "Category            0\n",
      "Post Month          0\n",
      "Post Weekday        0\n",
      "Post Hour           0\n",
      "Paid                1\n",
      "comment             0\n",
      "like                1\n",
      "share               4\n",
      "dtype: int64\n"
     ]
    }
   ],
   "source": [
    "data.isnull().any()\n",
    "\n",
    "def num_missing(x):\n",
    "  return sum(x.isnull())\n",
    "\n",
    "print (\"Missing values per column:\")\n",
    "print (data.apply(num_missing, axis=0))\n"
   ]
  },
  {
   "cell_type": "code",
   "execution_count": 14,
   "metadata": {
    "collapsed": false
   },
   "outputs": [],
   "source": [
    "data = data.dropna()"
   ]
  },
  {
   "cell_type": "markdown",
   "metadata": {},
   "source": [
    "#### Adding Columns\n",
    "I added the columns: \n",
    "* Post Id - ID Number for the post\n",
    "* Increase Likes -"
   ]
  },
  {
   "cell_type": "code",
   "execution_count": 65,
   "metadata": {
    "collapsed": false
   },
   "outputs": [],
   "source": [
    "dtLength = len(data['Page total likes'])\n",
    "\n",
    "dataIndexes = [x for x in range(dtLength)]\n",
    "\n",
    "data['Post id'] = pd.Series(dataIndexes, index=data.index)"
   ]
  },
  {
   "cell_type": "code",
   "execution_count": 16,
   "metadata": {
    "collapsed": false,
    "scrolled": true
   },
   "outputs": [
    {
     "data": {
      "text/html": [
       "<div>\n",
       "<table border=\"1\" class=\"dataframe\">\n",
       "  <thead>\n",
       "    <tr style=\"text-align: right;\">\n",
       "      <th></th>\n",
       "      <th>Page total likes</th>\n",
       "      <th>Category</th>\n",
       "      <th>Post Month</th>\n",
       "      <th>Post Weekday</th>\n",
       "      <th>Post Hour</th>\n",
       "      <th>Paid</th>\n",
       "      <th>comment</th>\n",
       "      <th>like</th>\n",
       "      <th>share</th>\n",
       "      <th>Post id</th>\n",
       "    </tr>\n",
       "  </thead>\n",
       "  <tbody>\n",
       "    <tr>\n",
       "      <th>count</th>\n",
       "      <td>495.000000</td>\n",
       "      <td>495.000000</td>\n",
       "      <td>495.000000</td>\n",
       "      <td>495.000000</td>\n",
       "      <td>495.000000</td>\n",
       "      <td>495.000000</td>\n",
       "      <td>495.000000</td>\n",
       "      <td>495.000000</td>\n",
       "      <td>495.000000</td>\n",
       "      <td>495.000000</td>\n",
       "    </tr>\n",
       "    <tr>\n",
       "      <th>mean</th>\n",
       "      <td>123173.268687</td>\n",
       "      <td>1.886869</td>\n",
       "      <td>7.028283</td>\n",
       "      <td>4.133333</td>\n",
       "      <td>7.844444</td>\n",
       "      <td>0.280808</td>\n",
       "      <td>7.557576</td>\n",
       "      <td>179.145455</td>\n",
       "      <td>27.264646</td>\n",
       "      <td>247.000000</td>\n",
       "    </tr>\n",
       "    <tr>\n",
       "      <th>std</th>\n",
       "      <td>16203.818031</td>\n",
       "      <td>0.853268</td>\n",
       "      <td>3.304274</td>\n",
       "      <td>2.030735</td>\n",
       "      <td>4.385064</td>\n",
       "      <td>0.449849</td>\n",
       "      <td>21.274384</td>\n",
       "      <td>324.412161</td>\n",
       "      <td>42.656388</td>\n",
       "      <td>143.038456</td>\n",
       "    </tr>\n",
       "    <tr>\n",
       "      <th>min</th>\n",
       "      <td>81370.000000</td>\n",
       "      <td>1.000000</td>\n",
       "      <td>1.000000</td>\n",
       "      <td>1.000000</td>\n",
       "      <td>1.000000</td>\n",
       "      <td>0.000000</td>\n",
       "      <td>0.000000</td>\n",
       "      <td>0.000000</td>\n",
       "      <td>0.000000</td>\n",
       "      <td>0.000000</td>\n",
       "    </tr>\n",
       "    <tr>\n",
       "      <th>25%</th>\n",
       "      <td>112324.000000</td>\n",
       "      <td>1.000000</td>\n",
       "      <td>4.000000</td>\n",
       "      <td>2.000000</td>\n",
       "      <td>3.000000</td>\n",
       "      <td>0.000000</td>\n",
       "      <td>1.000000</td>\n",
       "      <td>57.000000</td>\n",
       "      <td>10.000000</td>\n",
       "      <td>123.500000</td>\n",
       "    </tr>\n",
       "    <tr>\n",
       "      <th>50%</th>\n",
       "      <td>129600.000000</td>\n",
       "      <td>2.000000</td>\n",
       "      <td>7.000000</td>\n",
       "      <td>4.000000</td>\n",
       "      <td>9.000000</td>\n",
       "      <td>0.000000</td>\n",
       "      <td>3.000000</td>\n",
       "      <td>101.000000</td>\n",
       "      <td>19.000000</td>\n",
       "      <td>247.000000</td>\n",
       "    </tr>\n",
       "    <tr>\n",
       "      <th>75%</th>\n",
       "      <td>136393.000000</td>\n",
       "      <td>3.000000</td>\n",
       "      <td>10.000000</td>\n",
       "      <td>6.000000</td>\n",
       "      <td>11.000000</td>\n",
       "      <td>1.000000</td>\n",
       "      <td>7.000000</td>\n",
       "      <td>188.000000</td>\n",
       "      <td>32.500000</td>\n",
       "      <td>370.500000</td>\n",
       "    </tr>\n",
       "    <tr>\n",
       "      <th>max</th>\n",
       "      <td>139441.000000</td>\n",
       "      <td>3.000000</td>\n",
       "      <td>12.000000</td>\n",
       "      <td>7.000000</td>\n",
       "      <td>23.000000</td>\n",
       "      <td>1.000000</td>\n",
       "      <td>372.000000</td>\n",
       "      <td>5172.000000</td>\n",
       "      <td>790.000000</td>\n",
       "      <td>494.000000</td>\n",
       "    </tr>\n",
       "  </tbody>\n",
       "</table>\n",
       "</div>"
      ],
      "text/plain": [
       "       Page total likes    Category  Post Month  Post Weekday   Post Hour  \\\n",
       "count        495.000000  495.000000  495.000000    495.000000  495.000000   \n",
       "mean      123173.268687    1.886869    7.028283      4.133333    7.844444   \n",
       "std        16203.818031    0.853268    3.304274      2.030735    4.385064   \n",
       "min        81370.000000    1.000000    1.000000      1.000000    1.000000   \n",
       "25%       112324.000000    1.000000    4.000000      2.000000    3.000000   \n",
       "50%       129600.000000    2.000000    7.000000      4.000000    9.000000   \n",
       "75%       136393.000000    3.000000   10.000000      6.000000   11.000000   \n",
       "max       139441.000000    3.000000   12.000000      7.000000   23.000000   \n",
       "\n",
       "             Paid     comment         like       share     Post id  \n",
       "count  495.000000  495.000000   495.000000  495.000000  495.000000  \n",
       "mean     0.280808    7.557576   179.145455   27.264646  247.000000  \n",
       "std      0.449849   21.274384   324.412161   42.656388  143.038456  \n",
       "min      0.000000    0.000000     0.000000    0.000000    0.000000  \n",
       "25%      0.000000    1.000000    57.000000   10.000000  123.500000  \n",
       "50%      0.000000    3.000000   101.000000   19.000000  247.000000  \n",
       "75%      1.000000    7.000000   188.000000   32.500000  370.500000  \n",
       "max      1.000000  372.000000  5172.000000  790.000000  494.000000  "
      ]
     },
     "execution_count": 16,
     "metadata": {},
     "output_type": "execute_result"
    }
   ],
   "source": [
    "#data['like increase'] = data['Page total likes'] - 139441\n",
    "#print(data.ix[2])\n",
    "data.describe()"
   ]
  },
  {
   "cell_type": "code",
   "execution_count": 93,
   "metadata": {
    "collapsed": false,
    "scrolled": true
   },
   "outputs": [],
   "source": [
    "#print(data.get(1))\n",
    "#data.sort_index(1, ascending=False)\n",
    "#newData = data.sort_index(ascending=False)\n",
    "newData = data.sort_values(by='Post id', ascending=False)"
   ]
  },
  {
   "cell_type": "code",
   "execution_count": 94,
   "metadata": {
    "collapsed": false
   },
   "outputs": [
    {
     "name": "stdout",
     "output_type": "stream",
     "text": [
      "[81370, 0, 0, 3723, 0, 0, 886, 0, 0, 0, 0, 0, 0, 512, 0, 0, 0, 0, 418, 0, 0, 0, 0, 0, 4100, 107, 107, 107, 107, 107, 107, 107, 107, 107, 107, 107, 107, 107, 107, 107, 107, 107, 107, 107, 107, 107, 107, 107, 107, 107, 3065, 0, 0, 0, 0, 0, 1446, 0, 0, 0, 0, 2537, 0, 0, 0, 0, 0, 0, 0, 0, 0, 0, 0, 1380, 0, 0, 0, 0, 0, 0, 0, 1958, 0, 0, 0, 0, 2858, 0, 0, 0, 0, 0, 979, 0, 0, 0, 0, 0, 0, 0, 0, 0, 0, 0, 0, 1763, 0, 0, 0, 0, 0, 0, 0, 0, 0, 0, 0, 0, 1950, 0, 0, 0, 0, 0, 1408, 0, 0, 0, 0, 0, 2340, 0, 0, 0, 525, 0, 198, 0, 0, 0, 0, 0, 344, 0, 0, 0, 0, 0, 0, 1329, 0, 0, 0, 0, 0, 0, 0, 0, 0, 0, 1434, 0, 0, 0, 0, 0, 0, 0, 852, 0, 0, 0, 1490, 0, 1507, 0, 0, 0, 0, 0, 0, 0, 0, 1893, 0, 0, 0, 0, 0, 0, 0, 0, 0, 0, 0, 0, 0, 0, 0, 0, 672, 0, 0, 0, 0, 0, 0, 0, 0, 0, 529, 0, 0, 0, 0, 0, 204, 0, 0, 0, 0, 79, 0, 0, 0, 0, 658, 950, 0, 0, 0, 0, 0, 0, 0, 0, 0, 1568, 0, 0, 0, 0, 0, 0, 0, 0, 0, 0, 0, 0, 0, 0, 1191, 0, 0, 0, 0, 0, 0, 0, 509, 0, 0, 0, 330, 0, 0, 0, 0, 0, 98, 0, 0, 80, 0, 0, 0, 148, 0, 0, 0, 0, 0, 0, 245, 0, 0, 0, 0, 0, 0, 0, 0, 0, 616, 0, 0, 0, 0, 0, 634, 143, 0, 0, 0, 0, 85, 0, 0, 0, 1200, 0, 0, 0, 0, 0, 0, 0, 0, 316, 0, 0, 0, 0, 0, 0, 0, 0, 0, 233, 0, 0, 0, 0, 189, 0, 0, 0, 0, 83, 0, 0, 0, 13, 0, 0, 0, 0, 0, 0, 0, 300, 0, 0, 0, 0, 0, 0, 0, 0, 0, 380, 0, 0, 0, 0, 0, 0, 0, 0, 0, 0, 0, 0, 0, 0, 0, 249, 0, 0, 0, 0, 0, 94, 0, 0, 0, 0, 284, 0, 0, 0, 0, 0, 0, 0, 0, 39, 0, 0, 0, 0, 0, 0, 0, 0, 118, 0, 0, 0, 0, 0, 0, 0, 0, 0, 0, 0, 716, 0, 0, 0, 0, 0, 0, 0, 292, 0, 0, 0, 0, 0, 0, 0, 0, 144, 0, 0, 0, 0, 0, 0, 0, 0, 24, 0, 0, 0, 0, 0, 0, 0, 0, 542, 0, 0, 0, 0, 0, 0, 0, 0, 0, 0, 0, 0, 0, -437, 0, 0, -44, 0, 0, 0, 0, 0, 0, 0, 0, 0, 0, 1027, 0, 0, 0, 0, 0, 0, 0, 0, 0, 0, 0, 0, 0]\n"
     ]
    }
   ],
   "source": [
    "listIncreaseLikes = []\n",
    "currentPageLikes  = \n",
    "\n",
    "for i, row in newData.iterrows():\n",
    "    dif = int(row['Page total likes']) - currentPageLikes\n",
    "    listIncreaseLikes.append(dif)\n",
    "    if (row['Page total likes'] != currentPageLikes):\n",
    "        currentPageLikes = row['Page total likes']\n",
    "    \n",
    "print(listIncreaseLikes)\n"
   ]
  },
  {
   "cell_type": "markdown",
   "metadata": {},
   "source": [
    "#### Salving Output File"
   ]
  },
  {
   "cell_type": "code",
   "execution_count": 95,
   "metadata": {
    "collapsed": false
   },
   "outputs": [
    {
     "name": "stdout",
     "output_type": "stream",
     "text": [
      "File saved: dataset_Facebook_processed.csv\n"
     ]
    }
   ],
   "source": [
    "newData.to_csv('..\\data\\dataset_Facebook_processed.csv', \";\", index=False)\n",
    "print(\"File saved: dataset_Facebook_processed.csv\")"
   ]
  }
 ],
 "metadata": {
  "kernelspec": {
   "display_name": "Python 3",
   "language": "python",
   "name": "python3"
  },
  "language_info": {
   "codemirror_mode": {
    "name": "ipython",
    "version": 3
   },
   "file_extension": ".py",
   "mimetype": "text/x-python",
   "name": "python",
   "nbconvert_exporter": "python",
   "pygments_lexer": "ipython3",
   "version": "3.6.0"
  }
 },
 "nbformat": 4,
 "nbformat_minor": 2
}
