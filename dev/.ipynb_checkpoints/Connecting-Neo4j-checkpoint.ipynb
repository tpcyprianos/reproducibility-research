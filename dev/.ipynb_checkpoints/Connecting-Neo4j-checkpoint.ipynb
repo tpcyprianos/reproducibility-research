{
 "cells": [
  {
   "cell_type": "markdown",
   "metadata": {},
   "source": [
    "# Testing Neoj + Python"
   ]
  },
  {
   "cell_type": "markdown",
   "metadata": {},
   "source": [
    "## Installing neo4j-driver\n",
    "For using the Neo4j in Python is necessary install the driver using the command line:\n",
    "\n",
    "pip install neo4j-driver\n",
    "\n"
   ]
  },
  {
   "cell_type": "code",
   "execution_count": 15,
   "metadata": {
    "collapsed": false
   },
   "outputs": [
    {
     "name": "stdout",
     "output_type": "stream",
     "text": [
      "King Arthur\n"
     ]
    }
   ],
   "source": [
    "from neo4j.v1 import GraphDatabase, basic_auth    \n",
    "\n",
    "driver = GraphDatabase.driver(\"bolt://127.0.0.1:7687\", auth=basic_auth(\"neo4j\", \"localneo4j\"))\n",
    "session = driver.session()\n",
    "\n",
    "session.run(\"CREATE (a:Person {name: {name}, title: {title}})\",\n",
    "              {\"name\": \"Arthur\", \"title\": \"King\"})\n",
    "\n",
    "result = session.run(\"MATCH (a:Person) WHERE a.name = {name} \"\n",
    "                       \"RETURN a.name AS name, a.title AS title\",\n",
    "                       {\"name\": \"Arthur\"})\n",
    "for record in result:\n",
    "    print(\"%s %s\" % (record[\"title\"], record[\"name\"]))\n",
    "    \n",
    "session.close()"
   ]
  },
  {
   "cell_type": "markdown",
   "metadata": {},
   "source": [
    "## Installing neomodel"
   ]
  },
  {
   "cell_type": "code",
   "execution_count": null,
   "metadata": {
    "collapsed": true
   },
   "outputs": [],
   "source": [
    "from neomodel import config\n",
    "config.DATABASE_URL = 'http://127.0.0.1:7474/' \n",
    "\n",
    "from neomodel import db\n",
    "db.set_connection('bolt://127.0.0.1:7687','neo4j','localneo4j')"
   ]
  },
  {
   "cell_type": "markdown",
   "metadata": {},
   "source": [
    "## Working on Py2neo"
   ]
  },
  {
   "cell_type": "code",
   "execution_count": 20,
   "metadata": {
    "collapsed": false
   },
   "outputs": [
    {
     "data": {
      "text/plain": [
       "(alice)-[:KNOWS]->(bob)"
      ]
     },
     "execution_count": 20,
     "metadata": {},
     "output_type": "execute_result"
    }
   ],
   "source": [
    "from py2neo import Node, Relationship\n",
    "\n",
    "a = Node(\"Person\", name=\"Alice\")\n",
    "b = Node(\"Person\", name=\"Bob\")\n",
    "ab = Relationship(a, \"KNOWS\", b)\n",
    "ab"
   ]
  },
  {
   "cell_type": "code",
   "execution_count": 27,
   "metadata": {
    "collapsed": false
   },
   "outputs": [
    {
     "data": {
      "text/plain": [
       "[{'a.name': 'Arthur'}]"
      ]
     },
     "execution_count": 27,
     "metadata": {},
     "output_type": "execute_result"
    }
   ],
   "source": [
    "from py2neo import Graph, Path\n",
    "graph = Graph(password=\"localneo4j\")\n",
    "\n",
    "graph.data(\"MATCH (a:Person) RETURN a.name\")"
   ]
  },
  {
   "cell_type": "markdown",
   "metadata": {},
   "source": [
    "## References\n",
    "* [Blog Neo4j-Python](https://marcobonzanini.com/2015/04/06/getting-started-with-neo4j-and-python/)\n",
    "* [Neo4j-Python oficial](https://neo4j.com/developer/python/)\n",
    "* [Drivers Neo4j-Python](https://neo4j.com/developer/python/#neo4j-python-driver)\n",
    "* [Py2Neo](http://py2neo.org/v3/database.html)\n",
    "* [Neomodel](http://neomodel.readthedocs.io/en/latest/)"
   ]
  }
 ],
 "metadata": {
  "kernelspec": {
   "display_name": "Python 3",
   "language": "python",
   "name": "python3"
  },
  "language_info": {
   "codemirror_mode": {
    "name": "ipython",
    "version": 3
   },
   "file_extension": ".py",
   "mimetype": "text/x-python",
   "name": "python",
   "nbconvert_exporter": "python",
   "pygments_lexer": "ipython3",
   "version": "3.6.0"
  }
 },
 "nbformat": 4,
 "nbformat_minor": 2
}
