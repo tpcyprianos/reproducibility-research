{
 "cells": [
  {
   "cell_type": "markdown",
   "metadata": {},
   "source": [
    "## Installing neo4j-driver\n",
    "For using the Neo4j in Python is necessary install the driver using the command line:\n",
    "    pip install neo4j-driver"
   ]
  },
  {
   "cell_type": "code",
   "execution_count": null,
   "metadata": {
    "collapsed": true
   },
   "outputs": [],
   "source": [
    "from neo4j.v1 import GraphDatabase, basic_auth\n",
    "    driver = GraphDatabase.driver(\"bolt://localhost:7687\", auth=basic_auth(\"neo4j\", \"neo4j\"))\n",
    "    session = driver.session()\n",
    "\n",
    "    session.run(\"CREATE (a:Person {name: {name}, title: {title}})\",\n",
    "              {\"name\": \"Arthur\", \"title\": \"King\"})\n",
    "\n",
    "    result = session.run(\"MATCH (a:Person) WHERE a.name = {name} \"\n",
    "                       \"RETURN a.name AS name, a.title AS title\",\n",
    "                       {\"name\": \"Arthur\"})\n",
    "    for record in result:\n",
    "        print(\"%s %s\" % (record[\"title\"], record[\"name\"]))\n",
    "    \n",
    "    session.close()"
   ]
  }
 ],
 "metadata": {
  "kernelspec": {
   "display_name": "Python 3",
   "language": "python",
   "name": "python3"
  },
  "language_info": {
   "codemirror_mode": {
    "name": "ipython",
    "version": 3
   },
   "file_extension": ".py",
   "mimetype": "text/x-python",
   "name": "python",
   "nbconvert_exporter": "python",
   "pygments_lexer": "ipython3",
   "version": "3.6.0"
  }
 },
 "nbformat": 4,
 "nbformat_minor": 2
}
