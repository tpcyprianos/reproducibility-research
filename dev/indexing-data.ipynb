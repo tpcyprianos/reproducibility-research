{
 "cells": [
  {
   "cell_type": "markdown",
   "metadata": {},
   "source": [
    "# Indexing data in Neo4j\n"
   ]
  },
  {
   "cell_type": "code",
   "execution_count": 1,
   "metadata": {
    "collapsed": false
   },
   "outputs": [
    {
     "name": "stderr",
     "output_type": "stream",
     "text": [
      "[NbConvertApp] Converting notebook connection.ipynb to python\n",
      "[NbConvertApp] Writing 217 bytes to connection.py\n"
     ]
    }
   ],
   "source": [
    "#Comando de shell no jupyter\n",
    "!jupyter nbconvert --to python connection.ipynb"
   ]
  },
  {
   "cell_type": "code",
   "execution_count": 2,
   "metadata": {
    "collapsed": false
   },
   "outputs": [],
   "source": [
    "from connection import graph\n",
    "import pandas as pd\n",
    "import numpy as np"
   ]
  },
  {
   "cell_type": "code",
   "execution_count": null,
   "metadata": {
    "collapsed": false
   },
   "outputs": [],
   "source": []
  },
  {
   "cell_type": "markdown",
   "metadata": {},
   "source": [
    "## Creating nodes\n",
    "There are some import nodes that may be created once, for example:\n",
    "* The weekdays (Sunday, Monday, Tuesday, Wednesday, Thursday, Friday, Saturday)\n",
    "* Page Likes"
   ]
  },
  {
   "cell_type": "code",
   "execution_count": 3,
   "metadata": {
    "collapsed": false,
    "scrolled": true
   },
   "outputs": [
    {
     "name": "stdout",
     "output_type": "stream",
     "text": [
      "Creating Weekdays...\n",
      "[{'n.name': 'Sunday'}]\n",
      "[{'n.name': 'Monday'}]\n",
      "[{'n.name': 'Tuesday'}]\n",
      "[{'n.name': 'Wednesday'}]\n",
      "[{'n.name': 'Thursday'}]\n",
      "[{'n.name': 'Friday'}]\n",
      "[{'n.name': 'Saturday'}]\n"
     ]
    }
   ],
   "source": [
    "weekdaysList = ['Sunday','Monday', 'Tuesday', 'Wednesday', 'Thursday', 'Friday', 'Saturday']\n",
    "\n",
    "print(\"Creating Weekdays...\")\n",
    "\n",
    "for i in weekdaysList:\n",
    "    query  = \"CREATE (n: Weekday {name: '\" + i +\"'}) RETURN n.name\"\n",
    "    result = graph.data(query)\n",
    "    print(result)\n",
    "    "
   ]
  },
  {
   "cell_type": "code",
   "execution_count": 7,
   "metadata": {
    "collapsed": false
   },
   "outputs": [
    {
     "name": "stdout",
     "output_type": "stream",
     "text": [
      "Creating Categories...\n",
      "[{'n.name': 'Action'}]\n",
      "[{'n.name': 'Product'}]\n",
      "[{'n.name': 'Inspiration'}]\n"
     ]
    }
   ],
   "source": [
    "weekdaysList = [\"Action\",\"Product\",\"Inspiration\"]\n",
    "\n",
    "print(\"Creating Categories...\")\n",
    "\n",
    "for i in weekdaysList:\n",
    "    query  = \"CREATE (n: Category {name: '\" + i +\"'}) RETURN n.name\"\n",
    "    result = graph.data(query)\n",
    "    print(result)\n",
    "    "
   ]
  },
  {
   "cell_type": "code",
   "execution_count": 4,
   "metadata": {
    "collapsed": false
   },
   "outputs": [
    {
     "name": "stdout",
     "output_type": "stream",
     "text": [
      "Creating Page Likes...\n",
      "[{'n.name': 'Page Likes'}]\n"
     ]
    }
   ],
   "source": [
    "print(\"Creating Page Likes...\")\n",
    "query  = \"CREATE (n: PageLikes{name: 'Page Likes', total: 0}) return n.name\"\n",
    "result = graph.data(query)\n",
    "print(result)"
   ]
  },
  {
   "cell_type": "code",
   "execution_count": 5,
   "metadata": {
    "collapsed": false
   },
   "outputs": [
    {
     "data": {
      "text/plain": [
       "Index(['Page total likes', 'Type', 'Category', 'Post Month', 'Post Weekday',\n",
       "       'Post Hour', 'Paid', 'comment', 'like', 'share', 'Post id',\n",
       "       'Increase likes'],\n",
       "      dtype='object')"
      ]
     },
     "execution_count": 5,
     "metadata": {},
     "output_type": "execute_result"
    }
   ],
   "source": [
    "data = pd.read_csv('../data/dataset_Facebook_processed.csv', sep=\";\")\n",
    "data.columns"
   ]
  },
  {
   "cell_type": "code",
   "execution_count": 6,
   "metadata": {
    "collapsed": false
   },
   "outputs": [],
   "source": [
    "#Category: action, product, inspiration\n",
    "\n",
    "from py2neo import Graph, Node, Relationship\n",
    "\n",
    "transaction = graph.begin()\n",
    "\n",
    "for i, row in data.iterrows():  \n",
    "    \n",
    "    node = Node(\"Post\",type = str(row['Type']), id = str(row['Post id']), category = str(row['']))\n",
    "    transaction.create(node)\n",
    "    \n",
    "transaction.commit()\n"
   ]
  },
  {
   "cell_type": "code",
   "execution_count": null,
   "metadata": {
    "collapsed": true
   },
   "outputs": [],
   "source": []
  }
 ],
 "metadata": {
  "kernelspec": {
   "display_name": "Python 3",
   "language": "python",
   "name": "python3"
  },
  "language_info": {
   "codemirror_mode": {
    "name": "ipython",
    "version": 3
   },
   "file_extension": ".py",
   "mimetype": "text/x-python",
   "name": "python",
   "nbconvert_exporter": "python",
   "pygments_lexer": "ipython3",
   "version": "3.6.0"
  }
 },
 "nbformat": 4,
 "nbformat_minor": 2
}
