{
 "cells": [
  {
   "cell_type": "markdown",
   "metadata": {},
   "source": [
    "## Connecting Neo4j from Python\n",
    "For connecting the Graph Database to Python, I am using [Py2neo](http://py2neo.org/v3/) Driver. There are some options of [Neo4j-Python Drivers](https://neo4j.com/developer/python/#neo4j-python-driver), but for these experiments, the official documentation of Py2neo showed be enough, according the official documentation: \n",
    ">\"*Py2neo provides a set of core graph data types that are completely compatible with Neo4j but that can also be used independently of it. These types include the fundamental entities Node and Relationship as well as classes that represent collections of these entities.*\"\n",
    "\n",
    "Before use this program code, you may check:\n",
    "1. The py2neo is installed correctly (look at the [documentation](http://py2neo.org/v3/)):\n",
    "```\n",
    "pip install py2neo\n",
    "```\n",
    "2. Your Neo4j server is started (locally or container Docker)\n",
    "3. The parameters of host, user and password of graph database are corrects"
   ]
  },
  {
   "cell_type": "code",
   "execution_count": null,
   "metadata": {
    "collapsed": false
   },
   "outputs": [],
   "source": [
    "from py2neo import authenticate, Graph, Node\n",
    "\n",
    "host     = \"127.0.0.1:7474\"\n",
    "user     = \"neo4j\"\n",
    "password = \"neo4jresearch\"\n",
    "\n",
    "authenticate(host, user, password)\n",
    "graph = Graph(\"http://\"+ host)"
   ]
  }
 ],
 "metadata": {
  "kernelspec": {
   "display_name": "Python 3",
   "language": "python",
   "name": "python3"
  },
  "language_info": {
   "codemirror_mode": {
    "name": "ipython",
    "version": 3
   },
   "file_extension": ".py",
   "mimetype": "text/x-python",
   "name": "python",
   "nbconvert_exporter": "python",
   "pygments_lexer": "ipython3",
   "version": "3.6.0"
  }
 },
 "nbformat": 4,
 "nbformat_minor": 2
}
