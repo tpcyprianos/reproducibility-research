{
 "cells": [
  {
   "cell_type": "markdown",
   "metadata": {},
   "source": [
    "# Preprocessing Data\n",
    "The Dataset used in these experiments, Facebook Metrics, is available on [Machine Learning Repository](http://archive.ics.uci.edu/ml/datasets/Facebook+metrics). You can also find the related files in this repository, in the directory [/data](../data).\n",
    "\n",
    "## Facebook Metrics Dataset\n",
    "The data is related to posts published during the year of 2014 (from 1st of January to 31st of December) on the Facebook's page of a renowned cosmetics brand. The dataset has 500 instances and 19 attributes.\n",
    "\n",
    "### Describing Attributes\n",
    "The authors published the dataset with original Facebook metrics + data mining outputs. Altough, for these initial experiments, only some attributes were selected, as it will be explained in the section **Attributes Selection** below."
   ]
  },
  {
   "cell_type": "markdown",
   "metadata": {},
   "source": [
    "### Original Dataset Attributes"
   ]
  },
  {
   "cell_type": "code",
   "execution_count": null,
   "metadata": {
    "collapsed": false
   },
   "outputs": [],
   "source": [
    "import pandas as pd\n",
    "import numpy as np\n",
    "data = pd.read_csv('../data/dataset_Facebook.csv', sep=\";\")"
   ]
  },
  {
   "cell_type": "code",
   "execution_count": null,
   "metadata": {
    "collapsed": false,
    "scrolled": false
   },
   "outputs": [],
   "source": [
    "print(\"Original Dataset Attributes\")\n",
    "#print(data.head())\n",
    "print(data.columns)"
   ]
  },
  {
   "cell_type": "markdown",
   "metadata": {
    "collapsed": false,
    "scrolled": true
   },
   "source": [
    "## Preprocessing Steps\n",
    "The steps to perform the preprocessing data are:\n",
    "\n",
    "1. Select the interested features - open the file and select the colunms;\n",
    "2. Identify null values and exclude them - find the null values and exclude the corresponding rows;\n",
    "3. Alter the category from number to value - the category feature, in the original dataset, is represented by a number (1,2,3), in this step, the corresponding category value is selected (Action, Product, Inspiration);\n",
    "4. Alter the weekday from number to value - the weekday feature is represented by number, in this is step, the corresponding weekday value is selected (Sunday, Monday, etc.);\n",
    "5. Add Id attribute - add a sequencial number to represent the publication's identifier;\n",
    "6. Sort the dataset - perform a descending chronological sort data;\n",
    "7. Calculate and Add the increase in likes - calculate how many likes the page had in that day\n",
    "8. Save the output - create the *preprocessed data*"
   ]
  },
  {
   "cell_type": "markdown",
   "metadata": {},
   "source": [
    "### Selecting Attributes\n",
    "Because the main goal of this step is to index the information in Graph Database, the attributes that represent post's raw data were used. As follows:\n",
    "\n",
    "* Page total likes\n",
    "* Type (Link, Photo, Status, Video)\n",
    "* Category (Action, Product, Inspiration)\n",
    "* Post Month\n",
    "* Post Weekday\n",
    "* Post hour\n",
    "* Paid\n",
    "* comment\n",
    "* like\n",
    "* share"
   ]
  },
  {
   "cell_type": "markdown",
   "metadata": {},
   "source": [
    "#### Reading dataset\n",
    "In this code, the reading method selects only the targeted attributes."
   ]
  },
  {
   "cell_type": "code",
   "execution_count": null,
   "metadata": {
    "collapsed": false
   },
   "outputs": [],
   "source": [
    "data = pd.read_csv('../data/dataset_Facebook.csv', sep=\";\", usecols=['Page total likes', 'Type', 'Category', 'Post Month', 'Post Weekday',\n",
    "       'Post Hour', 'Paid', 'comment', 'like', 'share'] )"
   ]
  },
  {
   "cell_type": "markdown",
   "metadata": {},
   "source": [
    "#### Finding and Removing null values\n",
    "Cleaning data."
   ]
  },
  {
   "cell_type": "code",
   "execution_count": null,
   "metadata": {
    "collapsed": false
   },
   "outputs": [],
   "source": [
    "data.isnull().any()\n",
    "\n",
    "def num_missing(x):\n",
    "  return sum(x.isnull())\n",
    "\n",
    "print (\"Missing values per column:\")\n",
    "print (data.apply(num_missing, axis=0))\n"
   ]
  },
  {
   "cell_type": "code",
   "execution_count": null,
   "metadata": {
    "collapsed": false
   },
   "outputs": [],
   "source": [
    "data = data.dropna()"
   ]
  },
  {
   "cell_type": "markdown",
   "metadata": {},
   "source": [
    "##### Altering category from numbers to values\n",
    "The category values in the dataset are expressed in numbers (1,2,3), but according to the paper's authors, the corresponding categories are:\n",
    "* 1 = Action\n",
    "* 2 = Product\n",
    "* 3 = Inspiration\n",
    "\n",
    "So, for making data clearer and for indexing it in Graph Database, it is necessary to alter the category to its corresponding name."
   ]
  },
  {
   "cell_type": "code",
   "execution_count": null,
   "metadata": {
    "collapsed": false
   },
   "outputs": [],
   "source": [
    "categoriesNames = [\"\",\"Action\",\"Product\",\"Inspiration\"]\n",
    "listCategories  = []\n",
    "\n",
    "for i, row in data.iterrows():   \n",
    "    listCategories.append((categoriesNames[int(row[\"Category\"])]))\n",
    "    \n",
    "data[\"Category\"] = pd.Series(listCategories, index=data.index)"
   ]
  },
  {
   "cell_type": "markdown",
   "metadata": {},
   "source": [
    "##### Altering weekdays from numbers to values\n",
    "The category values in the dataset are expressed in numbers (1,2,3,4,5,6 e 7). Then, to making data clearer and for indexing it in Graph Database, it is necessary to alter the weekday to its corresponding name."
   ]
  },
  {
   "cell_type": "code",
   "execution_count": null,
   "metadata": {
    "collapsed": true
   },
   "outputs": [],
   "source": [
    "weekdaysNames = [\"\",\"Sunday\",\"Monday\",\"Tuesday\",\"Wednesday\",\"Thursday\",\"Friday\",\"Saturday\"]\n",
    "listWeekdays  = []\n",
    "\n",
    "for i, row in data.iterrows():   \n",
    "    listWeekdays.append((weekdaysNames[int(row[\"Post Weekday\"])]))\n",
    "    \n",
    "data[\"Post Weekday\"] = pd.Series(listWeekdays, index=data.index)"
   ]
  },
  {
   "cell_type": "markdown",
   "metadata": {},
   "source": [
    "#### Adding Attributes\n",
    "For indexing the data in Graph Database, other attribues (columns) were added:\n",
    "* Post Id - ID Number for the post\n",
    "* Increase in Likes - How many more likes were accounted for \n"
   ]
  },
  {
   "cell_type": "code",
   "execution_count": null,
   "metadata": {
    "collapsed": false
   },
   "outputs": [],
   "source": [
    "# Creating the colunm of Id\n",
    "dataLength = len(data['Page total likes'])\n",
    "\n",
    "dataIndexes = [x for x in range(dataLength)]\n",
    "\n",
    "data['Post id'] = pd.Series(dataIndexes, index=data.index)"
   ]
  },
  {
   "cell_type": "markdown",
   "metadata": {},
   "source": [
    "##### Sorting Data\n",
    "For making more sense, it was necessary to perform a descending chronological sort data. "
   ]
  },
  {
   "cell_type": "code",
   "execution_count": null,
   "metadata": {
    "collapsed": false,
    "scrolled": true
   },
   "outputs": [],
   "source": [
    "dataOrderedDescending = data.sort_values(by='Post id', ascending=False)\n",
    "dataOrderedDescending"
   ]
  },
  {
   "cell_type": "markdown",
   "metadata": {},
   "source": [
    "##### Calculating the Increase in Likes\n",
    "The information *Page total likes* is important, but other interesting information to be stored in database is the increase/decrease of likes, meaning how many likes the page had in that day."
   ]
  },
  {
   "cell_type": "code",
   "execution_count": null,
   "metadata": {
    "collapsed": false
   },
   "outputs": [],
   "source": [
    "listIncreaseLikes = []\n",
    "\n",
    "#\n",
    "currentPageLikes  = dataOrderedDescending['Page total likes'].iloc[0]\n",
    "\n",
    "for i, row in dataOrderedDescending.iterrows():   \n",
    "    dif = int(row['Page total likes']) - currentPageLikes\n",
    "    \n",
    "    listIncreaseLikes.append(dif)\n",
    "    \n",
    "    if (row['Page total likes'] != currentPageLikes):\n",
    "        currentPageLikes = row['Page total likes']\n",
    "    \n",
    "dataOrderedDescending['Increase likes'] = pd.Series(listIncreaseLikes, index=dataOrderedDescending.index)\n"
   ]
  },
  {
   "cell_type": "markdown",
   "metadata": {},
   "source": [
    "#### Salving Output File"
   ]
  },
  {
   "cell_type": "code",
   "execution_count": null,
   "metadata": {
    "collapsed": false
   },
   "outputs": [],
   "source": [
    "dataOrderedDescending.to_csv('..\\data\\dataset_Facebook_processed.csv', \";\", index=False)\n",
    "print(\"File saved: dataset_Facebook_processed.csv\")"
   ]
  }
 ],
 "metadata": {
  "kernelspec": {
   "display_name": "Python 3",
   "language": "python",
   "name": "python3"
  },
  "language_info": {
   "codemirror_mode": {
    "name": "ipython",
    "version": 3
   },
   "file_extension": ".py",
   "mimetype": "text/x-python",
   "name": "python",
   "nbconvert_exporter": "python",
   "pygments_lexer": "ipython3",
   "version": "3.6.0"
  }
 },
 "nbformat": 4,
 "nbformat_minor": 2
}
