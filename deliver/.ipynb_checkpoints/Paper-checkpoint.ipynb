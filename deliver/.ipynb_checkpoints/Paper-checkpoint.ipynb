{
 "cells": [
  {
   "cell_type": "markdown",
   "metadata": {},
   "source": [
    "# An Analysis of Social Network Metrics based on Neo4j Graph Database\n",
    "\n",
    "## Abstract\n",
    "\n",
    "\n",
    "## Introduction\n",
    "The increase of users in social networks has grown the investment and dissemination of social media \\cite{social}. In this scenario, companies understood the pontential of using social networks to influence customers and incorporating social media marketing in their strategies of businesses. In this way, some studies about to find the relationships between online publications and users' interactions whit them, data mining and prediction emerge \\cite{social}. \n",
    "\n",
    "Considering the volume of these generated data every day and the their characteristics, the traditional relational databases have some limitations. For this kind of data, in which data connectivity and topological information are important, the NoSQL (Not Only SQL) has been shown a good approach, mainly the Graph database (GDB) \\cite{neo4j}. A graph is a collection of vertices and edges, representing entities as nodes and relationships among them. For them, this structure allows us to model all kind of contexts \\cite{graphDB}.\n",
    "\n",
    "Considering the scenario and the relevance of studies in social media, this research aims to combine resources that are offered by GDBs and data from social media. The main goal of this research is to index information about social media metrics in a GDB, in order to discover relations and patterns inside the data. \n",
    "\n",
    "The question that has based this research is if and how a GDB can facilitate data analyses of social media metrics. Considering the characteristics of GDB and the nature of the information in social network, our hypothesis is that storing data in graphs enables us to have more accessible and understandable queries, in comparison to other methods of storing data such as SQL, files, and other usual ones.\n",
    "\n",
    "This paper is organized as follows. Section 2 presents\n",
    "\n",
    "## Related Works\n",
    "\n",
    "The proposal of this research is based on some researches in social media and graph database. Specially, research with Facebook metrics and GDB.\n",
    "\n",
    "Moro et al. \\cite{social} present an approach to predict the performance metrics of a post published in brands' Facebook page by using data mining method. In order to validade their proposal, a dataset composed by 790 posts published by a company in the year of 2014 and 12 performance metrics extracted was used. The final dataset generated, called Facebook Metrics, was used in the experiment of this paper (it is explained in Section \\ref{description}).\n",
    "\n",
    "Souza et al. \\cite{ewsdn} present an approach to provide a semantic modeling language support in a GDB with data about networking computing. They present a model of data and some primitives to answer questions about network, for example, shortest path between nodes and count in degree of an specific node. The GDB selected was Neo4j and Cypher query language (a similar to SQL).\n",
    "\n",
    "Robinson et al. \\cite{graphDB} explain the GDB models and important characteristics: native graph and native graph processing.\n",
    "\n",
    "## Description of data\n",
    "\n",
    "The dataset used in this research \\cite{social} is available in http://archive.ics.uci.edu/ml/datasets/Facebook+metrics. The dataset is composed by 19 features and 500 instances. The features are from two groups: (i) list of input features used for modeling and (ii) list of output features to be modeled. For this research, the input features were selected, and the outputs related with the interaction number:\n",
    "\n",
    "* Category - Manual content characterization: action (special offers and contests), product (direct advertisement, explicit brand content), and inspiration (non-explicit brand related content).\n",
    "* Page total likes - Number of people who have liked the company's page.\n",
    "* Type - Type of content (Link, Photo, Status, Video).\n",
    "* Post month - Month the post was published (January, ..., December).\n",
    "* Post hour -  Hour the post was published (0, 1, 2, ..., 23).\n",
    "* Post weekday - Weekday the post was published (Sunday, ..., Saturday).\n",
    "* Paid - If the company paid to Facebook for advertising (yes, no)\n",
    "* Comments - Number of comments on the publication.\n",
    "* Likes - Number of \"Likes\" on the publication.\n",
    "* Shares - Number of times the publication was shared.\n"
   ]
  },
  {
   "cell_type": "code",
   "execution_count": 1,
   "metadata": {
    "collapsed": false,
    "scrolled": true
   },
   "outputs": [
    {
     "name": "stdout",
     "output_type": "stream",
     "text": [
      "Index(['Page total likes', 'Type', 'Category', 'Post Month', 'Post Weekday',\n",
      "       'Post Hour', 'Paid', 'Lifetime Post Total Reach',\n",
      "       'Lifetime Post Total Impressions', 'Lifetime Engaged Users',\n",
      "       'Lifetime Post Consumers', 'Lifetime Post Consumptions',\n",
      "       'Lifetime Post Impressions by people who have liked your Page',\n",
      "       'Lifetime Post reach by people who like your Page',\n",
      "       'Lifetime People who have liked your Page and engaged with your post',\n",
      "       'comment', 'like', 'share', 'Total Interactions'],\n",
      "      dtype='object')\n"
     ]
    }
   ],
   "source": [
    "import pandas as pd\n",
    "import numpy as np\n",
    "\n",
    "data = pd.read_csv('../data/dataset_Facebook.csv', sep=\";\")\n",
    "print(data.columns)"
   ]
  },
  {
   "cell_type": "markdown",
   "metadata": {},
   "source": [
    "## Methodology \n",
    "\n",
    "## Methods\n",
    "Neo4j Graph Database will be used in this research. Neo4j has libraries to be used in Python.\n",
    "\n",
    "The metrics data from social network are indexed in a GDB, then some\n",
    "## Methods\n",
    "Neo4j Graph Database will be used in this research. Neo4j has libraries to be used in Python.\n",
    " queries are performed in order to discover what patterns emerge. The GDB selected to be used is Neo4j\\cite{graphDB}. Neo4j is the chosen one due to the model of graph (property graph), documentation available and for its free access (comunity edition). \n",
    "\n",
    "In summary the Figure 1 shows the base workflow used in this experiment.\n",
    ":::First findings (result of gdb)\n",
    "### Workflow\n",
    "\n",
    "![Research Workflow](../figures/research.png)\n"
   ]
  },
  {
   "cell_type": "markdown",
   "metadata": {},
   "source": [
    "\n",
    "### Data Model\n",
    "The Neo4j's model is the *Labeled Property Graph*. In this model:\n",
    "* Nodes and relationships contain properties (key-value pairs);\n",
    "* Nodes can be labeled with one or more labels;\n",
    "* Relationships are named and directed (always have a start and a end node).\n",
    "\n",
    "![Example of Property Graph](../figures/property-graph.svg)\n",
    "\n",
    "These characterists allow us to represent the data in an intuitive way \\cite{graphDB}. Furthermore, all necessary information can be modeled and stored. For modeling data in Neo4j, the follows elements are considered:\n",
    "* Node - It is a entity.\n",
    "* Label - It is a type of a node, it has a name and it groups the nodes in subsets.\n",
    "* Relationship - It is an representing interaction between nodes.\n",
    "\n",
    "## Results\n",
    "The main contribuition of this research is the data model designed for Facebook metrics, since it offers a visual understandign of how significant the publications were in social media environment.\n",
    "![Data Model of Facebook Metrics](../figures/data-model.svg)\n",
    "\n",
    "## Future Works\n",
    "To create further queries about data relations and patterns.\n",
    "How data mining can be combined with GDB, based on the results of this research.\n",
    "\n",
    "## References\n",
    " S. Moro, P. Rita and B. Vala. Predicting social media performance metrics and evaluation of the impact on brand building: A data mining approach. Journal of Business Research, Elsevier, In press, 2016."
   ]
  }
 ],
 "metadata": {
  "kernelspec": {
   "display_name": "Python 3",
   "language": "python",
   "name": "python3"
  },
  "language_info": {
   "codemirror_mode": {
    "name": "ipython",
    "version": 3
   },
   "file_extension": ".py",
   "mimetype": "text/x-python",
   "name": "python",
   "nbconvert_exporter": "python",
   "pygments_lexer": "ipython3",
   "version": "3.6.0"
  }
 },
 "nbformat": 4,
 "nbformat_minor": 2
}
