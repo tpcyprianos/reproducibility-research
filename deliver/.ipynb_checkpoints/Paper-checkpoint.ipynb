{
 "cells": [
  {
   "cell_type": "markdown",
   "metadata": {},
   "source": [
    "# Analysis of Social Network\n",
    "\n",
    "## Introduction\n",
    "This paper presents an experiment using network social data. The main goal of these experiments is to index data in graph database (GDB) to help analize the metrics colleted from a dataset.\n",
    "\n",
    "## Objectives\n",
    "The data from Social Network will be indexed in Graph Database, then data mining techniques will be implemented and some predictions will be extracted. Based on a paper, the first analysis will be the user engagement in posts of a branch page. The focus is understand the analysis model and reproduce on GDB.\n",
    "\n",
    "## Related Work\n",
    "\n",
    "\n",
    "## Workflow\n",
    "\n",
    "![Research Workflow](../figures/research.png)\n",
    "\n",
    "## Description of data\n",
    "The dataset used is available in http://archive.ics.uci.edu/ml/datasets/Facebook+metrics. The dataset has 19 features and 500 instances.\n",
    "\n",
    "## Methods\n",
    "Neo4j Graph Database will be used in this research. Neo4j has librarys to be used in Python.\n",
    "\n",
    "![Data Model of Facebook Metrics](../figures/data-model.png)\n",
    "\n",
    "## Results\n",
    "\n",
    "\n",
    "## References\n",
    " S. Moro, P. Rita and B. Vala. Predicting social media performance metrics and evaluation of the impact on brand building: A data mining approach. Journal of Business Research, Elsevier, In press, 2016.\n"
   ]
  }
 ],
 "metadata": {
  "kernelspec": {
   "display_name": "Python 3",
   "language": "python",
   "name": "python3"
  },
  "language_info": {
   "codemirror_mode": {
    "name": "ipython",
    "version": 3
   },
   "file_extension": ".py",
   "mimetype": "text/x-python",
   "name": "python",
   "nbconvert_exporter": "python",
   "pygments_lexer": "ipython3",
   "version": "3.6.0"
  }
 },
 "nbformat": 4,
 "nbformat_minor": 2
}
