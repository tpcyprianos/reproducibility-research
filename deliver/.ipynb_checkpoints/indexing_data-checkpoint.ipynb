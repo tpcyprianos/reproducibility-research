{
 "cells": [
  {
   "cell_type": "markdown",
   "metadata": {},
   "source": [
    "# Indexing data in Neo4j\n"
   ]
  },
  {
   "cell_type": "code",
   "execution_count": null,
   "metadata": {
    "collapsed": false
   },
   "outputs": [],
   "source": [
    "#Shell command line in the jupyter\n",
    "!jupyter nbconvert --to python connection_neo4j.ipynb"
   ]
  },
  {
   "cell_type": "code",
   "execution_count": null,
   "metadata": {
    "collapsed": false
   },
   "outputs": [],
   "source": [
    "from py2neo import Graph, Node, Relationship, NodeSelector\n",
    "from connection_neo4j import graph\n",
    "import pandas as pd\n",
    "import numpy as np"
   ]
  },
  {
   "cell_type": "markdown",
   "metadata": {},
   "source": [
    "## Accessing Dataset Processed"
   ]
  },
  {
   "cell_type": "code",
   "execution_count": null,
   "metadata": {
    "collapsed": false
   },
   "outputs": [],
   "source": [
    "data = pd.read_csv('../data/dataset_Facebook_processed.csv', sep=\";\")\n",
    "data.columns"
   ]
  },
  {
   "cell_type": "markdown",
   "metadata": {},
   "source": [
    "## Creating nodes\n",
    "There are some import nodes that may be created once, for example:\n",
    "* The weekdays (Sunday, Monday, Tuesday, Wednesday, Thursday, Friday, Saturday)\n",
    "* Page Likes\n",
    "* Posts\n",
    "* Comments\n",
    "* Likes\n",
    "* Shares"
   ]
  },
  {
   "cell_type": "code",
   "execution_count": null,
   "metadata": {
    "collapsed": false,
    "scrolled": true
   },
   "outputs": [],
   "source": [
    "weekdaysList = ['Sunday','Monday', 'Tuesday', 'Wednesday', 'Thursday', 'Friday', 'Saturday']\n",
    "\n",
    "print(\"Creating Weekdays...\")\n",
    "\n",
    "for i in weekdaysList:\n",
    "    query  = \"CREATE (n: Weekday {name: '\" + i +\"'}) RETURN n.name\"\n",
    "    result = graph.data(query)\n",
    "    print(result)\n",
    "    "
   ]
  },
  {
   "cell_type": "code",
   "execution_count": null,
   "metadata": {
    "collapsed": false
   },
   "outputs": [],
   "source": [
    "weekdaysList = [\"Action\",\"Product\",\"Inspiration\"]\n",
    "\n",
    "print(\"Creating Categories...\")\n",
    "\n",
    "for i in weekdaysList:\n",
    "    query  = \"CREATE (n: Category {name: '\" + i +\"'}) RETURN n.name\"\n",
    "    result = graph.data(query)\n",
    "    print(result)\n",
    "    \n",
    "    "
   ]
  },
  {
   "cell_type": "code",
   "execution_count": null,
   "metadata": {
    "collapsed": false
   },
   "outputs": [],
   "source": [
    "print(\"Creating Page Likes...\")\n",
    "query  = \"CREATE (n: PageLikes{name: 'Page Likes', total: 0}) return n.name\"\n",
    "result = graph.data(query)\n",
    "print(result)"
   ]
  },
  {
   "cell_type": "code",
   "execution_count": null,
   "metadata": {
    "collapsed": false
   },
   "outputs": [],
   "source": [
    "print(\"Indexing data in Neo4j... \")\n",
    "selector = NodeSelector(graph)\n",
    "\n",
    "for i, row in data.iterrows():  \n",
    "    transaction = graph.begin()    \n",
    "    \n",
    "    ############## Post Node ##############\n",
    "    post = Node(\"Post\",type = str(row['Type']), id = str(row['Post id']) )\n",
    "    transaction.create(post)\n",
    "    \n",
    "    ############## Category Node ##############\n",
    "    nodeSelected = selector.select(\"Category\", name=str(row['Category']))\n",
    "    returnedList = list(nodeSelected)\n",
    "    category = nodeSelected.first()\n",
    "    \n",
    "    ############## Relationship (Post) - [:IS_ABOUT] -> (Category) ##############\n",
    "    relationship = Relationship(post, \"IS_ABOUT\", category)\n",
    "    transaction.create(relationship)\n",
    "    \n",
    "    ############## Weekday Node ##############\n",
    "    nodeSelected = selector.select(\"Weekday\", name=str(row['Post Weekday']))\n",
    "    returnedList = list(nodeSelected)\n",
    "    weekday = nodeSelected.first()\n",
    "\n",
    "    ############## Relationship (Post) - [:POSTED_IN] -> (Weekday) ##############\n",
    "    relationship = Relationship(post, \"POSTED_IN\", weekday, month=str(row['Post Month']), hour=str(row['Post Hour']))\n",
    "    transaction.create(relationship)\n",
    "    \n",
    "    ############## Comment Node ##############\n",
    "    comment = Node(\"Comment\", number  = str(row['comment']))\n",
    "    transaction.create(comment)\n",
    "    \n",
    "    ############## Relationship (Comment) - [:HAS_COMMENTED] -> (Post) ##############\n",
    "    relationship = Relationship(comment, \"HAS_COMMENTED\", post)\n",
    "    transaction.create(relationship)\n",
    "    \n",
    "    ############## Like Node ##############\n",
    "    like = Node(\"Like\", number  = str(row['like']))\n",
    "    transaction.create(like)\n",
    "    \n",
    "    ############## Relationship (Like) - [:HAS_LIKED] -> (Post) ##############\n",
    "    relationship = Relationship(like, \"HAS_LIKED\", post)\n",
    "    transaction.create(relationship)\n",
    "    \n",
    "    ############## Share Node ##############\n",
    "    share = Node(\"Share\", number  = str(row['share']))\n",
    "    transaction.create(share)\n",
    "    \n",
    "    ############## Relationship (Share) - [:HAS_SHARED] -> (Post) ##############\n",
    "    relationship = Relationship(share, \"HAS_SHARED\", post)\n",
    "    transaction.create(relationship)\n",
    "    \n",
    "    ############## PageLikes Node ##############\n",
    "    nodeSelected = selector.select(\"PageLikes\", name=\"Page Likes\")\n",
    "    returnedList = list(nodeSelected)\n",
    "    page = nodeSelected.first()\n",
    "    \n",
    "    ############## Relationship (Post) - [:INCREASED_LIKES] -> (PageLikes) ##############\n",
    "    relationship = Relationship(post, \"INCREASED_LIKES\", page, number=(row['Increase likes']))\n",
    "    transaction.create(relationship)\n",
    "    \n",
    "    transaction.commit()\n",
    "print(\"Indexing end!\")"
   ]
  },
  {
   "cell_type": "markdown",
   "metadata": {},
   "source": [
    "## Updating Total Likes - Node PageLikes"
   ]
  },
  {
   "cell_type": "code",
   "execution_count": null,
   "metadata": {
    "collapsed": false
   },
   "outputs": [],
   "source": [
    "nodeSelected = selector.select(\"PageLikes\", name=\"Page Likes\")\n",
    "returnedList = list(nodeSelected)\n",
    "page = nodeSelected.first()\n",
    "\n",
    "graph.merge(page)\n",
    "#### Getting the last Total Likes (from dataset) ####\n",
    "page['total'] = int(data['Page total likes'].iloc[len(data['Page total likes'])-1])\n",
    "graph.push(page)\n",
    "\n",
    "print(\"TotalLikes Node Updated!\")"
   ]
  },
  {
   "cell_type": "code",
   "execution_count": null,
   "metadata": {
    "collapsed": true
   },
   "outputs": [],
   "source": []
  }
 ],
 "metadata": {
  "kernelspec": {
   "display_name": "Python 3",
   "language": "python",
   "name": "python3"
  },
  "language_info": {
   "codemirror_mode": {
    "name": "ipython",
    "version": 3
   },
   "file_extension": ".py",
   "mimetype": "text/x-python",
   "name": "python",
   "nbconvert_exporter": "python",
   "pygments_lexer": "ipython3",
   "version": "3.6.0"
  }
 },
 "nbformat": 4,
 "nbformat_minor": 2
}
