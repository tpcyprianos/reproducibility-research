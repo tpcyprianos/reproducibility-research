{
 "cells": [
  {
   "cell_type": "markdown",
   "metadata": {},
   "source": [
    "# Best Practices\n",
    "Este documento tem por objetivo, apresentar algumas importantes dicas para a realização de pesquisa reproduzível. Relato aqui o que funcionou e o que não funcionou durante a realização dos meus experimentos.\n",
    "\n",
    "## Notebook Jupyter (Anaconda)\n",
    "\n",
    "* Quando instalar, procure “setar” o caminho padrão correto. Parece uma bobagem, mas eu tive alguns problemas com o esse detalhe. Para corrigir, tive que desinstalar e instalar novamente o Anaconda. Quando eu instalei, também pensei ”vou colocar essa pasta aqui e depois eu mudo”, quando precisei definir os caminhos de repositório e \n",
    "\n",
    "\n",
    "## Docker\n",
    "\n",
    "* Na minha lógica, por se tratar do ambiente, faria mais sentido começar a pesquisa por aqui. Entretanto, como sou novata no Docker, acabei gastando um pouco mais de tempo para entender o funcionamento dos containers. Portanto, decidi instalar localmente para fazer meus experimentos e o paper, posteriormente volto a trabalhar com o docker.\n",
    "\n",
    "* Algumas referências: \n",
    "[Blog](http://www.diego-garcia.info/2015/02/15/docker-por-onde-comecar/)\n",
    "[Mundo Docker](http://www.mundodocker.com.br/tag/docker-no-windows/)\n",
    "[Tutorials](https://www.digitalocean.com/community/tutorials/como-instalar-e-utilizar-o-docker-primeiros-passos-pt)\n",
    "[Blog ](https://woliveiras.com.br/posts/Criando-uma-imagem-Docker-personalizada/)\n",
    "\n",
    "## Neo4j + Python\n",
    "\n",
    "* De acordo com a documentação no site oficial do neo4j, existem algumas possibilidades de driver para Python. Optei por utilizar o Py2neo, devida a documentação que achei bem completa.\n",
    "* Nos meus testes iniciais está funcionando bem.\n",
    "\n",
    "## Jupyter + Overleaf\n",
    "* Basicamente, você consegue clonar o repositório para a sua máquina, o que é bom, mas na prática, não se torna muito viável. Se estou no ambiente do Jupyter, alterando meus notebooks, preciso copiar manualmente os arquivos.\n",
    "* A outra possibilidade, é fazer o inverso, subir no Overleaf arquivos existentes (projetos). Entretanto, fiz muitas tentativas e não consegui fazer o push.\n",
    "\n",
    "\n"
   ]
  }
 ],
 "metadata": {
  "kernelspec": {
   "display_name": "Python 3",
   "language": "python",
   "name": "python3"
  },
  "language_info": {
   "codemirror_mode": {
    "name": "ipython",
    "version": 3
   },
   "file_extension": ".py",
   "mimetype": "text/x-python",
   "name": "python",
   "nbconvert_exporter": "python",
   "pygments_lexer": "ipython3",
   "version": "3.6.0"
  }
 },
 "nbformat": 4,
 "nbformat_minor": 2
}
